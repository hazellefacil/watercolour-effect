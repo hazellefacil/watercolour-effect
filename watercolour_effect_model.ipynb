{
 "cells": [
  {
   "cell_type": "code",
   "execution_count": 38,
   "metadata": {},
   "outputs": [],
   "source": [
    "import tensorflow as tf\n",
    "\n",
    "import os \n",
    "\n",
    "from keras.models import Model\n",
    "from keras.optimizers import Adam\n",
    "from keras.layers import Concatenate\n",
    "from keras.layers import Conv2D\n",
    "from keras.layers import Conv2DTranspose\n",
    "from keras.layers import BatchNormalization\n",
    "from keras.layers import Activation\n",
    "from keras.layers import LeakyReLU\n",
    "from keras.layers import Input\n"
   ]
  },
  {
   "cell_type": "code",
   "execution_count": 7,
   "metadata": {},
   "outputs": [],
   "source": [
    "def load(image_file):\n",
    "    #decode into uint8 tensor\n",
    "    image = tf.io.read_file(image_file)\n",
    "    image = tf.io.decode_jpeg(image)\n",
    "\n",
    "    #split into photo + painting \n",
    "    w = tf.shape(image)[1]\n",
    "    w = w // 2\n",
    "    input_image = image[:,w:,:]\n",
    "    real_image = image[:,:w,:]\n",
    "\n",
    "    #convert both images to float32 tensors \n",
    "    input_image = tf.cast(input_image, tf.float32)\n",
    "    real_image = tf.cast(real_image, tf.float32)\n",
    "\n",
    "    return input_image, real_image \n",
    "\n"
   ]
  },
  {
   "cell_type": "code",
   "execution_count": 39,
   "metadata": {},
   "outputs": [],
   "source": [
    "def Discriminator(image_shape):\n",
    "\n",
    "    # stddev can be edited \n",
    "    initializer = tf.random_normal_initializer(0.0, 0.05)\n",
    "\n",
    "    inp_img = Input(shape=image_shape, name='input_image')\n",
    "    target_img = Input(shape=image_shape, name='target_image')\n",
    "\n",
    "    merged = Concatenate()([inp_img,target_img])\n",
    "\n",
    "    # adapted from 'Image-to-Image Translation with Conditional Adversarial Networks' - Isola, UC Berkeley\n",
    "    # C64-C128-C256-C512\n",
    "    \n",
    "    d = Conv2D(64, (4,4), strides=(2,2), padding='same', kernel_initializer=initializer)(merged)\n",
    "    d = LeakyReLU(alpha=0.2)(d)\n",
    "\n",
    "    d = Conv2D(128, (4,4), strides=(2,2), padding='same', kernel_initializer=initializer)(merged)\n",
    "    d = BatchNormalization()(d)\n",
    "    d = LeakyReLU(alpha=0.2)(d)\n",
    "\n",
    "    d = Conv2D(256, (4,4), strides=(2,2), padding='same', kernel_initializer=initializer)(merged)\n",
    "    d = BatchNormalization()(d)\n",
    "    d = LeakyReLU(alpha=0.2)(d)\n",
    "\n",
    "\n",
    "    d = Conv2D(512, (4,4), strides=(2,2), padding='same', kernel_initializer=initializer)(merged)\n",
    "    d = BatchNormalization()(d)\n",
    "    d = LeakyReLU(alpha=0.2)(d)\n",
    "\n",
    "    # patch output\n",
    "    patch_out = Activation('sigmoid')(d)\n",
    "    model = Model([inp_img,target_img], patch_out)\n",
    "    out = Adam(learning_rate=0.0002, beta_1=0.5)\n",
    "    model.compile(loss='binary_crossentropy', loss_weights=[0.5])\n",
    "\n",
    "    return model\n",
    "\n",
    "\n",
    "    "
   ]
  }
 ],
 "metadata": {
  "kernelspec": {
   "display_name": "Python 3 (ipykernel)",
   "language": "python",
   "name": "python3"
  },
  "orig_nbformat": 4
 },
 "nbformat": 4,
 "nbformat_minor": 2
}
